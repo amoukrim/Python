{
  "nbformat": 4,
  "nbformat_minor": 0,
  "metadata": {
    "colab": {
      "provenance": []
    },
    "kernelspec": {
      "name": "python3",
      "display_name": "Python 3"
    },
    "language_info": {
      "name": "python"
    }
  },
  "cells": [
    {
      "cell_type": "code",
      "execution_count": null,
      "metadata": {
        "id": "VoTBMctnYXTT"
      },
      "outputs": [],
      "source": []
    },
    {
      "cell_type": "code",
      "source": [
        "#quesyion 1\n",
        "first = \"Hello World\"\n",
        "#quesyion 2\n",
        "# This is a comment.\n",
        "#quesyion 3\n",
        "print (\"I AM A COMPUTER!\")\n",
        "#quesyion 4\n",
        "if 1 < 2 and 4 > 2:\n",
        "    print(\"Math is fun.\")\n",
        "    #quesyion 5\n",
        "nope = None"
      ],
      "metadata": {
        "colab": {
          "base_uri": "https://localhost:8080/"
        },
        "collapsed": true,
        "id": "Es2LgK5mYkCs",
        "outputId": "36285e4c-5632-4695-87c7-4b6958ea4501"
      },
      "execution_count": 19,
      "outputs": [
        {
          "output_type": "stream",
          "name": "stdout",
          "text": [
            "I AM A COMPUTER!\n",
            "Math is fun.\n"
          ]
        }
      ]
    },
    {
      "cell_type": "markdown",
      "source": [
        "This is a comment."
      ],
      "metadata": {
        "id": "vZVFkNe1Y3W6"
      }
    },
    {
      "cell_type": "code",
      "source": [
        "nope = None"
      ],
      "metadata": {
        "id": "O54Q2ZsxaKqb"
      },
      "execution_count": null,
      "outputs": []
    },
    {
      "cell_type": "code",
      "source": [
        "# question 6\n",
        "result = True and False\n",
        "print(result)\n",
        "# question 7\n",
        "length = len(\"What's my length?\")\n",
        "print(length)\n",
        "# question 8\n",
        "stringToUpper = \"i am shouting\".upper()\n",
        "print(stringToUpper)\n",
        "# question 9\n",
        "mystr = \"1000\"\n",
        "number = int(mystr)\n",
        "print(number)\n",
        "#question 10\n",
        "#del str\n",
        "result = str(4) + \"real\"\n",
        "print(result)\n",
        "#question 11\n",
        "result = 3 * \"cool\"\n",
        "print(result) # Affiche coolcoolcool\n",
        "#question 12\n",
        "# result = 1 / 0 # ZeroDivisionError: division by zero\n",
        "#question 13\n",
        "print(type([])) # le type est <class 'list'>\n",
        "#question 14\n",
        "name = input(\"quel est votre nom? \")\n",
        "#question 15\n",
        "number = int(input(\"Enter a number: \"))\n",
        "\n",
        "if number < 0:\n",
        "    print(\"That number is less than 0!\")\n",
        "elif number > 0:\n",
        "    print(\"That number is greater than 0!\")\n",
        "else:\n",
        "    print(\"You picked 0!\")\n",
        "    #question 16\n",
        "index = \"apple\".index(\"l\")\n",
        "print(index)\n",
        "#question 17\n",
        "result = \"y\" in \"xylophone\"\n",
        "#question 18\n",
        "my_string = \"xylophone\"\n",
        "if my_string.islower():\n",
        "    print(\"my_string is all lowercase.\")\n",
        "else:\n",
        "    print(\"my_string is not all lowercase.\")"
      ],
      "metadata": {
        "colab": {
          "base_uri": "https://localhost:8080/"
        },
        "collapsed": true,
        "id": "HFVvFA73xRdD",
        "outputId": "9dfa1b75-e52c-4857-95bc-5a15c0cb175e"
      },
      "execution_count": 18,
      "outputs": [
        {
          "output_type": "stream",
          "name": "stdout",
          "text": [
            "False\n",
            "17\n",
            "I AM SHOUTING\n",
            "1000\n",
            "4real\n",
            "coolcoolcool\n",
            "<class 'list'>\n",
            "quel est votre nom? ii\n",
            "Enter a number: 9\n",
            "That number is greater than 0!\n",
            "3\n",
            "my_string is all lowercase.\n"
          ]
        }
      ]
    }
  ]
}
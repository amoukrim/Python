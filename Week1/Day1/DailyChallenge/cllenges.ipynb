{
  "nbformat": 4,
  "nbformat_minor": 0,
  "metadata": {
    "colab": {
      "provenance": [],
      "authorship_tag": "ABX9TyNQdlqkv582wPRYNbAtFoS4",
      "include_colab_link": true
    },
    "kernelspec": {
      "name": "python3",
      "display_name": "Python 3"
    },
    "language_info": {
      "name": "python"
    }
  },
  "cells": [
    {
      "cell_type": "markdown",
      "metadata": {
        "id": "view-in-github",
        "colab_type": "text"
      },
      "source": [
        "<a href=\"https://colab.research.google.com/github/amoukrim/Python/blob/main/Week1/Day1/DailyChallenge/cllenges.ipynb\" target=\"_parent\"><img src=\"https://colab.research.google.com/assets/colab-badge.svg\" alt=\"Open In Colab\"/></a>"
      ]
    },
    {
      "cell_type": "code",
      "execution_count": null,
      "metadata": {
        "id": "2631_5TuTEXJ"
      },
      "outputs": [],
      "source": [
        "#Python and OOP Introduction to Python Programming Daily Challenge/ String and Lists/\n",
        "#Challenge 1 a program that prints a list of multiples of the number until the list length reaches length.\n",
        "number = int(input(\"Enter a number: \"))\n",
        "length = int(input(\"Enter the length of the list: \"))\n",
        "\n",
        "# Crée une liste des multiples\n",
        "multiples = [number * i for i in range(1, length + 1)]\n",
        "\n",
        "# Affiche le résultat\n",
        "print(\"Liste des Multiples:\", multiples)\n",
        "\n",
        "\n"
      ]
    },
    {
      "cell_type": "code",
      "source": [
        "#Python and OOP Introduction to Python Programming Daily Challenge/ String and Lists/Challenge 2 : remove duplicate consecutive letters\n",
        "user_input = input(\"Saisissez un mot \")\n",
        "resultat = user_input[0]\n",
        "for i in range(1, len(user_input)):\n",
        "    if user_input[i]!= user_input[i-1]:\n",
        "        resultat += user_input[i]\n",
        "\n",
        "print(resultat)"
      ],
      "metadata": {
        "id": "D7cw90MH9Pqn"
      },
      "execution_count": null,
      "outputs": []
    },
    {
      "cell_type": "code",
      "source": [
        "\n",
        "# Daily challenge GOLD : Happy birthday\n",
        "# On importe deux modules :\n",
        "# datetime pour manipuler les dates, calendar pour vérifier les années bissextiles\n",
        "from datetime import datetime\n",
        "import calendar\n",
        "\n",
        "# 🔹 Étape 1 : Demander la date de naissance à l'utilisateur\n",
        "# L'utilisateur doit entrer la date au format jour/mois/année\n",
        "birthdate_str = input(\"Entrez votre date de naissance (format JJ/MM/AAAA) : \")\n",
        "\n",
        "# 🔹 Étape 2 : Convertir la chaîne de caractères en objet datetime\n",
        "birthdate = datetime.strptime(birthdate_str, \"%d/%m/%Y\")\n",
        "\n",
        "# 🔹 Étape 3 : Calculer l’âge de l'utilisateur\n",
        "today = datetime.today()  # Obtenir la date d'aujourd'hui\n",
        "age = today.year - birthdate.year  # Calcul de base : année actuelle - année de naissance\n",
        "\n",
        "# Si l'anniversaire de l'utilisateur n'est pas encore passé cette année, on enlève 1\n",
        "if (today.month, today.day) < (birthdate.month, birthdate.day):\n",
        "    age -= 1\n",
        "\n",
        "# 🔹 Étape 4 : Trouver le dernier chiffre de l’âge pour le nombre de bougies\n",
        "last_digit = age % 10  # Ex: 53 → 3 bougies\n",
        "\n",
        "# 🔹 Étape 5 : Vérifier si l'utilisateur est né une année bissextile\n",
        "leap = calendar.isleap(birthdate.year)  # Renvoie True si l'année est bissextile\n",
        "\n",
        "# 🔹 Étape 6 : Définir une fonction pour afficher le gâteau avec les bougies\n",
        "def print_cake(candles):\n",
        "    \"\"\"\n",
        "    Affiche un gâteau d'anniversaire avec un certain nombre de bougies.\n",
        "    :param candles: le nombre de 'i' représentant les bougies sur le gâteau\n",
        "    \"\"\"\n",
        "    print(\"     ___\" + \"i\" * candles + \"___\")  # ligne avec les bougies\n",
        "    print(\"    |:H:a:p:p:y:|\")                 # décoration texte \"Happy\"\n",
        "    print(\"  __|___________|__\")              # base du haut du gâteau\n",
        "    print(\" |^^^^^^^^^^^^^^^^^|\")            # décoration\n",
        "    print(\" |:B:i:r:t:h:d:a:y:|\")            # texte \"Birthday\"\n",
        "    print(\" |                 |\")            # espace vide\n",
        "    print(\" ~~~~~~~~~~~~~~~~~~~\\n\")          # base du gâteau\n",
        "\n",
        "# 🔹 Étape 7 : Affichage final selon année bissextile ou non\n",
        "if leap:\n",
        "    print(\"🎉 Vous êtes né(e) une année bissextile ! Deux gâteaux pour vous \\n\")\n",
        "    print_cake(last_digit)  # Premier gâteau\n",
        "    print_cake(last_digit)  # Deuxième gâteau\n",
        "else:\n",
        "    print_cake(last_digit)  # Un seul gâteau"
      ],
      "metadata": {
        "id": "dLwoGsr79QNs"
      },
      "execution_count": null,
      "outputs": []
    }
  ]
}
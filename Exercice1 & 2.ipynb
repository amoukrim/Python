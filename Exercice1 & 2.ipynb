{
  "nbformat": 4,
  "nbformat_minor": 0,
  "metadata": {
    "colab": {
      "provenance": [],
      "authorship_tag": "ABX9TyPnQOO7Ts+aU//bs/TkqukL",
      "include_colab_link": true
    },
    "kernelspec": {
      "name": "python3",
      "display_name": "Python 3"
    },
    "language_info": {
      "name": "python"
    }
  },
  "cells": [
    {
      "cell_type": "markdown",
      "metadata": {
        "id": "view-in-github",
        "colab_type": "text"
      },
      "source": [
        "<a href=\"https://colab.research.google.com/github/amoukrim/Python/blob/main/Exercice1%20%26%202.ipynb\" target=\"_parent\"><img src=\"https://colab.research.google.com/assets/colab-badge.svg\" alt=\"Open In Colab\"/></a>"
      ]
    },
    {
      "cell_type": "code",
      "execution_count": null,
      "metadata": {
        "id": "VoTBMctnYXTT"
      },
      "outputs": [],
      "source": []
    },
    {
      "cell_type": "code",
      "source": [
        "#quesyion 1\n",
        "first = \"Hello World\"\n",
        "#quesyion 2\n",
        "# This is a comment.\n",
        "#quesyion 3\n",
        "print (\"I AM A COMPUTER!\")\n",
        "#quesyion 4\n",
        "if 1 < 2 and 4 > 2:\n",
        "    print(\"Math is fun.\")\n",
        "    #quesyion 5\n",
        "nope = None"
      ],
      "metadata": {
        "colab": {
          "base_uri": "https://localhost:8080/"
        },
        "collapsed": true,
        "id": "Es2LgK5mYkCs",
        "outputId": "36285e4c-5632-4695-87c7-4b6958ea4501"
      },
      "execution_count": 19,
      "outputs": [
        {
          "output_type": "stream",
          "name": "stdout",
          "text": [
            "I AM A COMPUTER!\n",
            "Math is fun.\n"
          ]
        }
      ]
    },
    {
      "cell_type": "markdown",
      "source": [
        "This is a comment."
      ],
      "metadata": {
        "id": "vZVFkNe1Y3W6"
      }
    },
    {
      "cell_type": "code",
      "source": [
        "nope = None\n",
        "\n"
      ],
      "metadata": {
        "colab": {
          "base_uri": "https://localhost:8080/"
        },
        "id": "O54Q2ZsxaKqb",
        "outputId": "1b50ffc5-28d6-4f5b-8a0b-2445f4355736"
      },
      "execution_count": 3,
      "outputs": [
        {
          "output_type": "stream",
          "name": "stdout",
          "text": [
            "[1, 'str', 'H']\n"
          ]
        }
      ]
    },
    {
      "cell_type": "code",
      "source": [
        "# question 6\n",
        "result = True and False\n",
        "print(result)\n",
        "# question 7\n",
        "length = len(\"What's my length?\")\n",
        "print(length)\n",
        "# question 8\n",
        "stringToUpper = \"i am shouting\".upper()\n",
        "print(stringToUpper)\n",
        "# question 9\n",
        "mystr = \"1000\"\n",
        "number = int(mystr)\n",
        "print(number)\n",
        "#question 10\n",
        "#del str\n",
        "result = str(4) + \"real\"\n",
        "print(result)\n",
        "#question 11\n",
        "result = 3 * \"cool\"\n",
        "print(result) # Affiche coolcoolcool\n",
        "#question 12\n",
        "# result = 1 / 0 # ZeroDivisionError: division by zero\n",
        "#question 13\n",
        "print(type([])) # le type est <class 'list'>\n",
        "#question 14\n",
        "name = input(\"quel est votre nom? \")\n",
        "#question 15\n",
        "number = int(input(\"Enter a number: \"))\n",
        "\n",
        "if number < 0:\n",
        "    print(\"That number is less than 0!\")\n",
        "elif number > 0:\n",
        "    print(\"That number is greater than 0!\")\n",
        "else:\n",
        "    print(\"You picked 0!\")\n",
        "    #question 16\n",
        "index = \"apple\".index(\"l\")\n",
        "print(index)\n",
        "#question 17\n",
        "result = \"y\" in \"xylophone\"\n",
        "#question 18\n",
        "my_string = \"xylophone\"\n",
        "if my_string.islower():\n",
        "    print(\"my_string is all lowercase.\")\n",
        "else:\n",
        "    print(\"my_string is not all lowercase.\")"
      ],
      "metadata": {
        "colab": {
          "base_uri": "https://localhost:8080/"
        },
        "collapsed": true,
        "id": "HFVvFA73xRdD",
        "outputId": "9dfa1b75-e52c-4857-95bc-5a15c0cb175e"
      },
      "execution_count": 18,
      "outputs": [
        {
          "output_type": "stream",
          "name": "stdout",
          "text": [
            "False\n",
            "17\n",
            "I AM SHOUTING\n",
            "1000\n",
            "4real\n",
            "coolcoolcool\n",
            "<class 'list'>\n",
            "quel est votre nom? ii\n",
            "Enter a number: 9\n",
            "That number is greater than 0!\n",
            "3\n",
            "my_string is all lowercase.\n"
          ]
        }
      ]
    },
    {
      "cell_type": "code",
      "source": [],
      "metadata": {
        "id": "5BX7_BkALvhd"
      },
      "execution_count": null,
      "outputs": []
    },
    {
      "cell_type": "markdown",
      "source": [
        "Exercice 2\n"
      ],
      "metadata": {
        "id": "tvxlDPyaLyDN"
      }
    },
    {
      "cell_type": "code",
      "source": [
        "#We retrieve the number of years in human time\"\n",
        "humanYears = int(input(\"Enter the number of human years: \"))\n",
        "#We calculate equivalents for catYears and dogYears for first Year\n",
        "if humanYears == 1:\n",
        "    catYears = 15\n",
        "    dogYears = 15\n",
        "#We calculate equivalents for catYears and dogYears for second Year\n",
        "elif humanYears == 2:\n",
        "    catYears = 15 + 9\n",
        "    dogYears = 15 + 9\n",
        "#We calculate equivalents for catYears and dogYears for years past second Year\n",
        "else:\n",
        "    catYears = 15 + 9 + (humanYears - 2) * 4\n",
        "    dogYears = 15 + 9 + (humanYears - 2) * 5\n",
        "print([humanYears, catYears, dogYears])"
      ],
      "metadata": {
        "id": "6wWeyhOMMDyE"
      },
      "execution_count": null,
      "outputs": []
    }
  ]
}
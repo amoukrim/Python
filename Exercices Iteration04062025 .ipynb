{
  "nbformat": 4,
  "nbformat_minor": 0,
  "metadata": {
    "colab": {
      "provenance": [],
      "authorship_tag": "ABX9TyMyoC4GfZXLCWyc+anvhjyT",
      "include_colab_link": true
    },
    "kernelspec": {
      "name": "python3",
      "display_name": "Python 3"
    },
    "language_info": {
      "name": "python"
    }
  },
  "cells": [
    {
      "cell_type": "markdown",
      "metadata": {
        "id": "view-in-github",
        "colab_type": "text"
      },
      "source": [
        "<a href=\"https://colab.research.google.com/github/amoukrim/Python/blob/main/Exercices%20Iteration04062025%20.ipynb\" target=\"_parent\"><img src=\"https://colab.research.google.com/assets/colab-badge.svg\" alt=\"Open In Colab\"/></a>"
      ]
    },
    {
      "cell_type": "code",
      "execution_count": 23,
      "metadata": {
        "colab": {
          "base_uri": "https://localhost:8080/"
        },
        "collapsed": true,
        "id": "Zaq0XAgrC5cR",
        "outputId": "f5360be9-daa1-45bc-df2e-8b5dd48d0918"
      },
      "outputs": [
        {
          "output_type": "stream",
          "name": "stdout",
          "text": [
            "1\n",
            "2\n",
            "3\n",
            "4\n",
            "20\n",
            "40\n",
            "60\n",
            "80\n",
            "['E', 'T', 'M']\n",
            "[2, 4, 6]\n",
            "[3, 4]\n",
            "['eile', 'mit', 'ttam']\n",
            "['i', 'r', 't']\n",
            "[12, 24, 36, 48, 60, 72, 84, 96]\n",
            "m\n",
            "z\n",
            "n\n",
            "g\n",
            "[[0, 1, 2, 0, 1, 2, 0, 1, 2]]\n",
            "[0, 1, 2, 3, 4, 5, 6, 7, 8, 9, 0, 1, 2, 3, 4, 5, 6, 7, 8, 9, 0, 1, 2, 3, 4, 5, 6, 7, 8, 9, 0, 1, 2, 3, 4, 5, 6, 7, 8, 9, 0, 1, 2, 3, 4, 5, 6, 7, 8, 9, 0, 1, 2, 3, 4, 5, 6, 7, 8, 9, 0, 1, 2, 3, 4, 5, 6, 7, 8, 9, 0, 1, 2, 3, 4, 5, 6, 7, 8, 9, 0, 1, 2, 3, 4, 5, 6, 7, 8, 9, 0, 1, 2, 3, 4, 5, 6, 7, 8, 9]\n"
          ]
        }
      ],
      "source": [
        "# question1\n",
        "mylist = [1, 2, 3, 4]\n",
        "for elem in mylist :\n",
        "  print (elem)\n",
        "\n",
        "# question2\n",
        "for elem in mylist :\n",
        "  print (elem *20)\n",
        "  #question 3\n",
        "  names = [\"Elie\", \"Tim\", \"Matt\"]\n",
        "first_letters = [name[0] for name in names]\n",
        "print(first_letters)\n",
        "#question 4\n",
        "numbers = [1, 2, 3, 4, 5, 6]\n",
        "evens = [num for num in numbers if num % 2 == 0]\n",
        "#2ème solution ou evens = numbers[1::2]\n",
        "print(evens)\n",
        "#question 5\n",
        "list1 = [1, 2, 3, 4]\n",
        "list2 = [3, 4, 5, 6]\n",
        "\n",
        "common = [num for num in list1 if num in list2]\n",
        "print(common)\n",
        "#question 6\n",
        "words = [\"Elie\", \"Tim\", \"Matt\"]\n",
        "reversed_lower = []\n",
        "\n",
        "for word in words:\n",
        "    reversed_lower.append(word[::-1].lower())\n",
        "\n",
        "print(reversed_lower)\n",
        "#question 7\n",
        "str1 =  \"first\"\n",
        "str2 = \"third\"\n",
        "result=[]\n",
        "for char in str1 :\n",
        "  if char in str2 and char not in result:\n",
        "    result.append(char)\n",
        "print(result);\n",
        "#question 8\n",
        "div_by_12 = [num for num in range(1, 101) if num % 12 == 0]\n",
        "print(div_by_12)\n",
        "#question 9\n",
        "word = \"amazing\"\n",
        "voyelles = 'aeiyuo'\n",
        "resultat =''\n",
        "for char in word :\n",
        "  if(char not in voyelles) :\n",
        "    print(char)\n",
        "    #question 10\n",
        "    mylist=[]\n",
        "    for j in range(3):\n",
        "      mylist.append([0, 1, 2])\n",
        "      print (mylist)\n",
        "#question 11\n",
        "for _ in range(10):\n",
        "    result.append(list(range(10)))\n",
        "\n",
        "\n"
      ]
    },
    {
      "cell_type": "markdown",
      "source": [
        "Exercise - Dictionary"
      ],
      "metadata": {
        "id": "L0XqpIoueJZ2"
      }
    },
    {
      "cell_type": "code",
      "source": [
        "#1\n",
        "lst = [(\"name\", \"Elie\"), (\"job\", \"Instructor\")]\n",
        "d = dict(lst)\n",
        "print(d)\n",
        "#2\n",
        "states = [\"CA\", \"NJ\", \"RI\"]\n",
        "names = [\"California\", \"New Jersey\", \"Rhode Island\"]\n",
        "\n",
        "result = {}\n",
        "\n",
        "for i in range(len(states)):\n",
        "    result[states[i]] = names[i]\n",
        "\n",
        "print(result)\n",
        "#3\n",
        "resultat = {}\n",
        "vowels = ['a', 'e', 'i', 'o', 'u', 'y']\n",
        "for vowel in vowels :\n",
        "  resultat[vowel] = 0\n",
        "print (resultat)\n",
        "#4\n",
        "letters = \"ABCDEFGHIJKLMNOPQRSTUVWXYZ\"\n",
        "d = {}\n",
        "\n",
        "for i in range(len(letters)):\n",
        "    d[i + 1] = letters[i]\n",
        "\n",
        "print(d)\n",
        "#Question Bonus\n",
        "stri = \"awesome sauce\"\n",
        "myvowels = ['a', 'e', 'i', 'o', 'u', 'y']\n",
        "resu= {}\n",
        "for vowel in vowels :\n",
        "  resu[vowel] = myvowels.count(vowel);\n",
        "print ('################')\n",
        "print (resu)\n",
        "\n",
        "\n",
        "\n",
        "\n"
      ],
      "metadata": {
        "colab": {
          "base_uri": "https://localhost:8080/"
        },
        "id": "RFxZ3f9zGytl",
        "outputId": "3dd8f7dd-0a3d-437d-e578-cc874b470ca0",
        "collapsed": true
      },
      "execution_count": 30,
      "outputs": [
        {
          "output_type": "stream",
          "name": "stdout",
          "text": [
            "{'name': 'Elie', 'job': 'Instructor'}\n",
            "{'CA': 'California', 'NJ': 'New Jersey', 'RI': 'Rhode Island'}\n",
            "{'a': 0, 'e': 0, 'i': 0, 'o': 0, 'u': 0, 'y': 0}\n",
            "{1: 'A', 2: 'B', 3: 'C', 4: 'D', 5: 'E', 6: 'F', 7: 'G', 8: 'H', 9: 'I', 10: 'J', 11: 'K', 12: 'L', 13: 'M', 14: 'N', 15: 'O', 16: 'P', 17: 'Q', 18: 'R', 19: 'S', 20: 'T', 21: 'U', 22: 'V', 23: 'W', 24: 'X', 25: 'Y', 26: 'Z'}\n",
            "################\n",
            "{'a': 1, 'e': 1, 'i': 1, 'o': 1, 'u': 1, 'y': 1}\n"
          ]
        }
      ]
    },
    {
      "cell_type": "code",
      "source": [
        "#1\n",
        "lst = [(\"name\", \"Elie\"), (\"job\", \"Instructor\")]\n",
        "d = dict(lst)\n",
        "print(d)\n",
        "#2\n",
        "states = [\"CA\", \"NJ\", \"RI\"]\n",
        "names = [\"California\", \"New Jersey\", \"Rhode Island\"]\n",
        "\n",
        "result = {}\n",
        "\n",
        "for i in range(len(states)):\n",
        "    result[states[i]] = names[i]\n",
        "\n",
        "print(result)\n",
        "#3\n",
        "resultat = {}\n",
        "vowels = ['a', 'e', 'i', 'o', 'u', 'y']\n",
        "for vowel in vowels :\n",
        "  resultat[vowel] = 0\n",
        "print (resultat)\n",
        "#4\n",
        "letters = \"ABCDEFGHIJKLMNOPQRSTUVWXYZ\"\n",
        "d = {}\n",
        "\n",
        "for i in range(len(letters)):\n",
        "    d[i + 1] = letters[i]\n",
        "\n",
        "print(d)\n",
        "#Question Bonus\n",
        "stri = \"awesome sauce\"\n",
        "myvowels = ['a', 'e', 'i', 'o', 'u', 'y']\n",
        "resu= {}\n",
        "for vowel in vowels :\n",
        "  resu[vowel] = myvowels.count(vowel);\n",
        "print ('################')\n",
        "print (resu)\n",
        "\n",
        "\n",
        "\n",
        "\n"
      ],
      "metadata": {
        "colab": {
          "base_uri": "https://localhost:8080/"
        },
        "outputId": "3dd8f7dd-0a3d-437d-e578-cc874b470ca0",
        "collapsed": true,
        "id": "4Ti2ot41mPOB"
      },
      "execution_count": null,
      "outputs": [
        {
          "output_type": "stream",
          "name": "stdout",
          "text": [
            "{'name': 'Elie', 'job': 'Instructor'}\n",
            "{'CA': 'California', 'NJ': 'New Jersey', 'RI': 'Rhode Island'}\n",
            "{'a': 0, 'e': 0, 'i': 0, 'o': 0, 'u': 0, 'y': 0}\n",
            "{1: 'A', 2: 'B', 3: 'C', 4: 'D', 5: 'E', 6: 'F', 7: 'G', 8: 'H', 9: 'I', 10: 'J', 11: 'K', 12: 'L', 13: 'M', 14: 'N', 15: 'O', 16: 'P', 17: 'Q', 18: 'R', 19: 'S', 20: 'T', 21: 'U', 22: 'V', 23: 'W', 24: 'X', 25: 'Y', 26: 'Z'}\n",
            "################\n",
            "{'a': 1, 'e': 1, 'i': 1, 'o': 1, 'u': 1, 'y': 1}\n"
          ]
        }
      ]
    },
    {
      "cell_type": "code",
      "source": [
        "#1\n",
        "lst = [(\"name\", \"Elie\"), (\"job\", \"Instructor\")]\n",
        "d = dict(lst)\n",
        "print(d)\n",
        "#2\n",
        "states = [\"CA\", \"NJ\", \"RI\"]\n",
        "names = [\"California\", \"New Jersey\", \"Rhode Island\"]\n",
        "\n",
        "result = {}\n",
        "\n",
        "for i in range(len(states)):\n",
        "    result[states[i]] = names[i]\n",
        "\n",
        "print(result)\n",
        "#3\n",
        "resultat = {}\n",
        "vowels = ['a', 'e', 'i', 'o', 'u', 'y']\n",
        "for vowel in vowels :\n",
        "  resultat[vowel] = 0\n",
        "print (resultat)\n",
        "#4\n",
        "letters = \"ABCDEFGHIJKLMNOPQRSTUVWXYZ\"\n",
        "d = {}\n",
        "\n",
        "for i in range(len(letters)):\n",
        "    d[i + 1] = letters[i]\n",
        "\n",
        "print(d)\n",
        "#Question Bonus\n",
        "stri = \"awesome sauce\"\n",
        "myvowels = ['a', 'e', 'i', 'o', 'u', 'y']\n",
        "resu= {}\n",
        "for vowel in vowels :\n",
        "  resu[vowel] = stri.count(vowel);\n",
        "print (resu)\n",
        "\n",
        "\n",
        "\n",
        "\n"
      ],
      "metadata": {
        "colab": {
          "base_uri": "https://localhost:8080/"
        },
        "outputId": "736039c9-1383-4fc6-fa17-4f4df9e6a7ba",
        "collapsed": true,
        "id": "j-MRwesZmWam"
      },
      "execution_count": 31,
      "outputs": [
        {
          "output_type": "stream",
          "name": "stdout",
          "text": [
            "{'name': 'Elie', 'job': 'Instructor'}\n",
            "{'CA': 'California', 'NJ': 'New Jersey', 'RI': 'Rhode Island'}\n",
            "{'a': 0, 'e': 0, 'i': 0, 'o': 0, 'u': 0, 'y': 0}\n",
            "{1: 'A', 2: 'B', 3: 'C', 4: 'D', 5: 'E', 6: 'F', 7: 'G', 8: 'H', 9: 'I', 10: 'J', 11: 'K', 12: 'L', 13: 'M', 14: 'N', 15: 'O', 16: 'P', 17: 'Q', 18: 'R', 19: 'S', 20: 'T', 21: 'U', 22: 'V', 23: 'W', 24: 'X', 25: 'Y', 26: 'Z'}\n",
            "################\n",
            "{'a': 2, 'e': 3, 'i': 0, 'o': 1, 'u': 1, 'y': 0}\n"
          ]
        }
      ]
    }
  ]
}
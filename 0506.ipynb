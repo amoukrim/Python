{
  "nbformat": 4,
  "nbformat_minor": 0,
  "metadata": {
    "colab": {
      "provenance": [],
      "authorship_tag": "ABX9TyN8/M0rGkimBz3eJHwQl201",
      "include_colab_link": true
    },
    "kernelspec": {
      "name": "python3",
      "display_name": "Python 3"
    },
    "language_info": {
      "name": "python"
    }
  },
  "cells": [
    {
      "cell_type": "markdown",
      "metadata": {
        "id": "view-in-github",
        "colab_type": "text"
      },
      "source": [
        "<a href=\"https://colab.research.google.com/github/amoukrim/Python/blob/main/0506.ipynb\" target=\"_parent\"><img src=\"https://colab.research.google.com/assets/colab-badge.svg\" alt=\"Open In Colab\"/></a>"
      ]
    },
    {
      "cell_type": "code",
      "execution_count": null,
      "metadata": {
        "id": "YvnOTY9i2msc"
      },
      "outputs": [],
      "source": []
    },
    {
      "cell_type": "code",
      "source": [
        "#Exervice1\n",
        "def add_two_numbers(a, b):\n",
        "    return a+b\n",
        "\n",
        "print(add_two_numbers(3, 5))"
      ],
      "metadata": {
        "colab": {
          "base_uri": "https://localhost:8080/"
        },
        "id": "8w-steoC2p0N",
        "outputId": "0d7be797-ff89-46cc-d62d-c716b73baeb2"
      },
      "execution_count": null,
      "outputs": [
        {
          "output_type": "stream",
          "name": "stdout",
          "text": [
            "8\n"
          ]
        }
      ]
    },
    {
      "cell_type": "code",
      "source": [
        "#Exervice 2\n",
        "def greet(name):\n",
        "  return f\"Hello, {name}!\"\n",
        "print(greet(name = \"Alice\"))"
      ],
      "metadata": {
        "colab": {
          "base_uri": "https://localhost:8080/"
        },
        "id": "ijUea5Fd3tQ7",
        "outputId": "a9175d7d-1760-4382-873e-c71f5791714b"
      },
      "execution_count": null,
      "outputs": [
        {
          "output_type": "stream",
          "name": "stdout",
          "text": [
            "Hello, Alice]!\n"
          ]
        }
      ]
    },
    {
      "cell_type": "code",
      "source": [
        "#Exervice 3\n",
        "def check_even_odd(numero):\n",
        "  if numero % 2 == 0:\n",
        "        print(\"Even\")\n",
        "  else:\n",
        "        print(\"Odd\")\n",
        "\n",
        "\n",
        "check_even_odd('7')"
      ],
      "metadata": {
        "colab": {
          "base_uri": "https://localhost:8080/"
        },
        "id": "IpHU_Pe25T6c",
        "outputId": "8a3ac866-3f02-4cf5-928f-2982dccd688a"
      },
      "execution_count": null,
      "outputs": [
        {
          "output_type": "stream",
          "name": "stdout",
          "text": [
            "Odd\n"
          ]
        }
      ]
    },
    {
      "cell_type": "code",
      "source": [
        "#Exervice 4\n",
        "def sum_list(listenumbers):\n",
        "  return sum(listenumbers)\n",
        "\n",
        "\n",
        "print(sum_list([1, 2, 3, 4]))"
      ],
      "metadata": {
        "colab": {
          "base_uri": "https://localhost:8080/"
        },
        "id": "nb00S4DI-Ugt",
        "outputId": "160e0a08-e312-4fc5-be6e-658e9f2d2aca"
      },
      "execution_count": 30,
      "outputs": [
        {
          "output_type": "stream",
          "name": "stdout",
          "text": [
            "10\n"
          ]
        }
      ]
    },
    {
      "cell_type": "code",
      "source": [
        "#Exervice 5\n",
        "def print_days():\n",
        "    days = [\"Sunday\", \"Monday\", \"Tuesday\", \"Wednesday\", \"Thursday\", \"Friday\", \"Saturday\"]\n",
        "    for day in days:\n",
        "        print(day)\n",
        "#2ème solution"
      ],
      "metadata": {
        "id": "3asTr8mbAJWB"
      },
      "execution_count": 47,
      "outputs": []
    },
    {
      "cell_type": "code",
      "source": [
        "#Exervice 5\n",
        "#2ème solution\n",
        "import calendar\n",
        "\n",
        "def print_days():\n",
        "    for day in calendar.day_name:\n",
        "      print(day)\n",
        "(print_days())"
      ],
      "metadata": {
        "colab": {
          "base_uri": "https://localhost:8080/"
        },
        "collapsed": true,
        "id": "GhROy_SuBrG5",
        "outputId": "51d2788b-faf2-4c0c-ffe2-aee4cf73e9c0"
      },
      "execution_count": 50,
      "outputs": [
        {
          "output_type": "stream",
          "name": "stdout",
          "text": [
            "Monday\n",
            "Tuesday\n",
            "Wednesday\n",
            "Thursday\n",
            "Friday\n",
            "Saturday\n",
            "Sunday\n"
          ]
        }
      ]
    },
    {
      "cell_type": "code",
      "source": [
        "#Exervice 6\n",
        "def check_sign(number):\n",
        "  if number>0 :\n",
        "    return f\"Positive\"\n",
        "  elif number<0 :\n",
        "    return f\"Negative\"\n",
        "  else :\n",
        "    return f\"Zero\"\n",
        "\n",
        "check_sign(0)"
      ],
      "metadata": {
        "colab": {
          "base_uri": "https://localhost:8080/",
          "height": 36
        },
        "id": "HiCRDsjnDPkQ",
        "outputId": "bea5a0c6-cd8e-4bb9-b5c9-ea8afbcc0e93"
      },
      "execution_count": 54,
      "outputs": [
        {
          "output_type": "execute_result",
          "data": {
            "text/plain": [
              "'Zero'"
            ],
            "application/vnd.google.colaboratory.intrinsic+json": {
              "type": "string"
            }
          },
          "metadata": {},
          "execution_count": 54
        }
      ]
    },
    {
      "cell_type": "code",
      "source": [
        "#Exervice 7\n",
        "def repeat_word(word,number):\n",
        "  return word*number\n",
        "\n",
        "repeat_word(\"Adil \",3)\n",
        "\n"
      ],
      "metadata": {
        "colab": {
          "base_uri": "https://localhost:8080/",
          "height": 36
        },
        "id": "meCtvMtMExCQ",
        "outputId": "4214d9f6-d678-4cc6-a214-ec6a284b9a8c"
      },
      "execution_count": 58,
      "outputs": [
        {
          "output_type": "execute_result",
          "data": {
            "text/plain": [
              "'Adil Adil Adil '"
            ],
            "application/vnd.google.colaboratory.intrinsic+json": {
              "type": "string"
            }
          },
          "metadata": {},
          "execution_count": 58
        }
      ]
    },
    {
      "cell_type": "code",
      "source": [
        "#Exercises Functions - Intermediate\n",
        "#Exercice 1\n",
        "def find_largest(numbers):\n",
        "    return max(numbers)\n",
        "print(find_largest([9,4,8,6,2]))\n"
      ],
      "metadata": {
        "colab": {
          "base_uri": "https://localhost:8080/"
        },
        "id": "vMXds-B0FlN3",
        "outputId": "2f0e77bd-b212-4c4c-c6bd-afd5413e9510"
      },
      "execution_count": 63,
      "outputs": [
        {
          "output_type": "stream",
          "name": "stdout",
          "text": [
            "9\n"
          ]
        }
      ]
    },
    {
      "cell_type": "code",
      "source": [
        "#Exercises Functions - Intermediate\n",
        "#Exercice 2\n",
        "def check_letter(word, caracter):\n",
        "    return caracter in word\n",
        "\n",
        "print(check_letter(\"Adil\",\"d\"))\n"
      ],
      "metadata": {
        "colab": {
          "base_uri": "https://localhost:8080/"
        },
        "id": "ZvRb6KQWH0ay",
        "outputId": "85c451b6-ced0-44e0-860e-70ade0550cb2"
      },
      "execution_count": 67,
      "outputs": [
        {
          "output_type": "stream",
          "name": "stdout",
          "text": [
            "True\n"
          ]
        }
      ]
    },
    {
      "cell_type": "code",
      "source": [
        "#Exercises Functions - Intermediate\n",
        "#Exercice 3\n",
        "resultat =0\n",
        "def count_to_number(number):\n",
        "    resultat = sum(range(number))\n",
        "    return resultat\n",
        "\n",
        "print(count_to_number(5))  # Output: 10"
      ],
      "metadata": {
        "colab": {
          "base_uri": "https://localhost:8080/"
        },
        "id": "rehpgFQQJJeY",
        "outputId": "f31bbf92-ed95-443a-eb68-71cb2cda0a15"
      },
      "execution_count": 76,
      "outputs": [
        {
          "output_type": "stream",
          "name": "stdout",
          "text": [
            "10\n"
          ]
        }
      ]
    },
    {
      "cell_type": "code",
      "source": [],
      "metadata": {
        "id": "Gks-tIO2Kz_5"
      },
      "execution_count": null,
      "outputs": []
    }
  ]
}
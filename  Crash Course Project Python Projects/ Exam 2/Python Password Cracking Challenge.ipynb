{
  "nbformat": 4,
  "nbformat_minor": 0,
  "metadata": {
    "colab": {
      "provenance": [],
      "authorship_tag": "ABX9TyOoKU8czxxQecCFfQWw+ewe",
      "include_colab_link": true
    },
    "kernelspec": {
      "name": "python3",
      "display_name": "Python 3"
    },
    "language_info": {
      "name": "python"
    }
  },
  "cells": [
    {
      "cell_type": "markdown",
      "metadata": {
        "id": "view-in-github",
        "colab_type": "text"
      },
      "source": [
        "<a href=\"https://colab.research.google.com/github/amoukrim/Python/blob/main/%20Crash%20Course%20Project%20Python%20Projects/%20Exam%202/Python%20Password%20Cracking%20Challenge.ipynb\" target=\"_parent\"><img src=\"https://colab.research.google.com/assets/colab-badge.svg\" alt=\"Open In Colab\"/></a>"
      ]
    },
    {
      "cell_type": "code",
      "execution_count": null,
      "metadata": {
        "id": "Z0oy77dwpZL9"
      },
      "outputs": [],
      "source": [
        "# Crash Course Project Python Projects Exam 2: Python Password Cracking\n",
        "#!! Imoportant il faut lancer ce programme manuellement via la commande pytho, ./exam.py\n",
        "from utils import unzip_with_7z\n",
        "\n",
        "zip_file_path = 'congrats.7z' # keep as is\n",
        "dest_path = '.' # keep as is\n",
        "\n",
        "find_me = '' # 2 letters are missing!\n",
        "secret_password = find_me + 'bcmpda'\n",
        "\n",
        "# WRITE YOUR CODE BELOW\n",
        "# ----------------------------------------\n",
        "listeAlphabet = [\"a\",\"b\",\"c\",\"d\",\"e\",\"f\",\"g\",\"h\",\"i\",\"j\",\"k\",\"l\",\"m\",\"n\",\"o\",\"p\",\"q\",\"r\",\"s\",\"t\",\"u\",\"v\",\"w\",\"x\",\"y\",\"z\"]\n",
        "# fonction\n",
        "def generate2letters():\n",
        "     for caracter1 in listeAlphabet :\n",
        "         global secret_password\n",
        "         global zip_file_path\n",
        "         global dest_path\n",
        "\n",
        "         for caracter2 in listeAlphabet :\n",
        "            result = caracter1+caracter2\n",
        "            print(result)\n",
        "            secret_password = result +'bcmpda'\n",
        "            #appel de la foction qui test\n",
        "            if unzip_with_7z( zip_file_path, dest_path ,secret_password)==True:\n",
        "              print (f\"Le password est{secret_password} \")\n",
        "              return\n",
        "#appel de la foction pour lance le programme\n",
        "generate2letters()\n",
        "\n",
        "\n",
        "\n",
        "\n",
        "\n",
        ""
      ]
    }
  ]
}
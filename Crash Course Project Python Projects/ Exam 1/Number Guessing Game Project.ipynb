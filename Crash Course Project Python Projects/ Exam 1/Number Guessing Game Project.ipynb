{
  "nbformat": 4,
  "nbformat_minor": 0,
  "metadata": {
    "colab": {
      "provenance": [],
      "authorship_tag": "ABX9TyPRSuRY2pxgRi4i4Ut9mjDt",
      "include_colab_link": true
    },
    "kernelspec": {
      "name": "python3",
      "display_name": "Python 3"
    },
    "language_info": {
      "name": "python"
    }
  },
  "cells": [
    {
      "cell_type": "markdown",
      "metadata": {
        "id": "view-in-github",
        "colab_type": "text"
      },
      "source": [
        "<a href=\"https://colab.research.google.com/github/amoukrim/Python/blob/main/Crash%20Course%20Project%20Python%20Projects/%20Exam%201/Number%20Guessing%20Game%20Project.ipynb\" target=\"_parent\"><img src=\"https://colab.research.google.com/assets/colab-badge.svg\" alt=\"Open In Colab\"/></a>"
      ]
    },
    {
      "cell_type": "code",
      "execution_count": null,
      "metadata": {
        "id": "8i4hHLSemGUW"
      },
      "outputs": [],
      "source": [
        "#Exam 1 : Number Guessing Game Project\n",
        "import random\n",
        "\n",
        "def number_guessing_game():\n",
        "    random_number = random.randint(1, 100)\n",
        "    max_attempts = 7\n",
        "\n",
        "    for i in range(1, max_attempts + 1):\n",
        "        guessnumber = int(input(\"Try a number: \"))\n",
        "\n",
        "        if guessnumber < random_number:\n",
        "            print(\"Too low!\")\n",
        "        elif guessnumber > random_number:\n",
        "            print(\"Too high!\")\n",
        "        else:\n",
        "            return \" Congratulations, you win!\"\n",
        "\n",
        "    return f\" Sorry, you're out of attempts. The number was {random_number}.\"\n",
        "\n",
        "# Appel de la fonction\n",
        "print(number_guessing_game())"
      ]
    }
  ]
}
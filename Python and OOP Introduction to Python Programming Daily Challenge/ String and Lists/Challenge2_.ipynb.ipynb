{
  "nbformat": 4,
  "nbformat_minor": 0,
  "metadata": {
    "colab": {
      "provenance": [],
      "authorship_tag": "ABX9TyNSdWz5NsP7LpAndlSBxFcD",
      "include_colab_link": true
    },
    "kernelspec": {
      "name": "python3",
      "display_name": "Python 3"
    },
    "language_info": {
      "name": "python"
    }
  },
  "cells": [
    {
      "cell_type": "markdown",
      "metadata": {
        "id": "view-in-github",
        "colab_type": "text"
      },
      "source": [
        "<a href=\"https://colab.research.google.com/github/amoukrim/Python/blob/main/Python%20and%20OOP%20Introduction%20to%20Python%20Programming%20Daily%20Challenge/%20String%20and%20Lists/Challenge2_.ipynb.ipynb\" target=\"_parent\"><img src=\"https://colab.research.google.com/assets/colab-badge.svg\" alt=\"Open In Colab\"/></a>"
      ]
    },
    {
      "cell_type": "code",
      "execution_count": null,
      "metadata": {
        "id": "32hiOWYvTU8x"
      },
      "outputs": [],
      "source": [
        "#Python and OOP Introduction to Python Programming Daily Challenge/ String and Lists/Challenge 2 : remove duplicate consecutive letters\n",
        "user_input = input(\"Saisissez un mot \")\n",
        "resultat = user_input[0]\n",
        "for i in range(1, len(user_input)):\n",
        "    if user_input[i]!= user_input[i-1]:\n",
        "        resultat += user_input[i]\n",
        "\n",
        "print(resultat)\n",
        "\n"
      ]
    }
  ]
}
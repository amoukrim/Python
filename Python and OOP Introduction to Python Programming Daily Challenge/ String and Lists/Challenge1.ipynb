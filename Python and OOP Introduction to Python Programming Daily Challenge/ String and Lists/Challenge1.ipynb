{
  "nbformat": 4,
  "nbformat_minor": 0,
  "metadata": {
    "colab": {
      "provenance": [],
      "authorship_tag": "ABX9TyPHbKpdQXq/LeLM3p5/roRB",
      "include_colab_link": true
    },
    "kernelspec": {
      "name": "python3",
      "display_name": "Python 3"
    },
    "language_info": {
      "name": "python"
    }
  },
  "cells": [
    {
      "cell_type": "markdown",
      "metadata": {
        "id": "view-in-github",
        "colab_type": "text"
      },
      "source": [
        "<a href=\"https://colab.research.google.com/github/amoukrim/Python/blob/main/Python%20and%20OOP%20Introduction%20to%20Python%20Programming%20Daily%20Challenge/%20String%20and%20Lists/Challenge1.ipynb\" target=\"_parent\"><img src=\"https://colab.research.google.com/assets/colab-badge.svg\" alt=\"Open In Colab\"/></a>"
      ]
    },
    {
      "cell_type": "code",
      "execution_count": null,
      "metadata": {
        "id": "2631_5TuTEXJ"
      },
      "outputs": [],
      "source": [
        "#Python and OOP Introduction to Python Programming Daily Challenge/ String and Lists/\n",
        "#Challenge 1 a program that prints a list of multiples of the number until the list length reaches length.\n",
        "number = int(input(\"Enter a number: \"))\n",
        "length = int(input(\"Enter the length of the list: \"))\n",
        "\n",
        "# Crée une liste des multiples\n",
        "multiples = [number * i for i in range(1, length + 1)]\n",
        "\n",
        "# Affiche le résultat\n",
        "print(\"Liste des Multiples:\", multiples)\n",
        "\n",
        "\n"
      ]
    }
  ]
}
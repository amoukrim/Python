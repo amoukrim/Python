{
  "nbformat": 4,
  "nbformat_minor": 0,
  "metadata": {
    "colab": {
      "provenance": [],
      "authorship_tag": "ABX9TyP7ar1qjxvc53W1ivJm5QWf",
      "include_colab_link": true
    },
    "kernelspec": {
      "name": "python3",
      "display_name": "Python 3"
    },
    "language_info": {
      "name": "python"
    }
  },
  "cells": [
    {
      "cell_type": "markdown",
      "metadata": {
        "id": "view-in-github",
        "colab_type": "text"
      },
      "source": [
        "<a href=\"https://colab.research.google.com/github/amoukrim/Python/blob/main/%20Week1/Day2/DailyChallenge/challenge.ipynb\" target=\"_parent\"><img src=\"https://colab.research.google.com/assets/colab-badge.svg\" alt=\"Open In Colab\"/></a>"
      ]
    },
    {
      "cell_type": "code",
      "execution_count": null,
      "metadata": {
        "id": "QFZZZL4qBvf1"
      },
      "outputs": [],
      "source": [
        "#Daily Challenge: Dictionaries\n",
        "# Demande un mot à l'utilisateur\n",
        "word = input(\"Enter a word: \")\n",
        "\n",
        "# Convertit tout en minuscules pour ignorer la casse\n",
        "word = word.lower()\n",
        "\n",
        "# Dictionnaire pour stocker les lettres et leurs positions\n",
        "letter_indexes = {}\n",
        "\n",
        "# Parcourrir chaque caractère et son index\n",
        "for index, letter in enumerate(word):\n",
        "    # Vérifie que c'est une lettre alphabétique\n",
        "    if letter.isalpha():\n",
        "        if letter in letter_indexes:\n",
        "            letter_indexes[letter].append(index)\n",
        "        else:\n",
        "            letter_indexes[letter] = [index]\n",
        "\n",
        "# Affiche le résultat\n",
        "print(letter_indexes)\n"
      ]
    },
    {
      "cell_type": "code",
      "source": [
        "#DC Gold : Solve The Matrix\n",
        "# La matrice de départ\n",
        "matrix = [\n",
        "    ['7', 'i', 'i'],\n",
        "    ['T', 's', 'x'],\n",
        "    ['h', '%', '?'],\n",
        "    ['i', ' ', '#'],\n",
        "    ['s', 'M', ' '],\n",
        "    ['$', 'a', ' '],\n",
        "    ['#', 't', '%'],\n",
        "    ['^', 'r', '!']\n",
        "]\n",
        "\n",
        "# Lire les colonnes de haut en bas et concaténer les caractères\n",
        "message = ''\n",
        "rows = len(matrix)\n",
        "cols = len(matrix[0])\n",
        "\n",
        "for col in range(cols):\n",
        "    for row in range(rows):\n",
        "        message += matrix[row][col]\n",
        "\n",
        "# Nettoyer manuellement : on ajoute une lettre, on remplace les symboles entre deux lettres par un espace\n",
        "final_message = ''\n",
        "i = 0\n",
        "while i < len(message):\n",
        "    if message[i].isalpha():\n",
        "        final_message += message[i]\n",
        "        i += 1\n",
        "    else:\n",
        "        # On regarde s'il y a une lettre après un ou plusieurs symboles\n",
        "        j = i\n",
        "        while j < len(message) and not message[j].isalpha():\n",
        "            j += 1\n",
        "        # S'il y a bien une lettre après les symboles, on ajoute un espace\n",
        "        if i > 0 and j < len(message):\n",
        "            final_message += ' '\n",
        "        i = j\n",
        "\n",
        "print(final_message)"
      ],
      "metadata": {
        "id": "otdcsMWTB1Px"
      },
      "execution_count": null,
      "outputs": []
    }
  ]
}
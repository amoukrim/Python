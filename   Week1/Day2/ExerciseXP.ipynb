{
  "nbformat": 4,
  "nbformat_minor": 0,
  "metadata": {
    "colab": {
      "provenance": [],
      "authorship_tag": "ABX9TyMxlAoyYI32nSV0eoAdcikW",
      "include_colab_link": true
    },
    "kernelspec": {
      "name": "python3",
      "display_name": "Python 3"
    },
    "language_info": {
      "name": "python"
    }
  },
  "cells": [
    {
      "cell_type": "markdown",
      "metadata": {
        "id": "view-in-github",
        "colab_type": "text"
      },
      "source": [
        "<a href=\"https://colab.research.google.com/github/amoukrim/Python/blob/main/%20%20Week1/Day2/ExerciseXP.ipynb\" target=\"_parent\"><img src=\"https://colab.research.google.com/assets/colab-badge.svg\" alt=\"Open In Colab\"/></a>"
      ]
    },
    {
      "cell_type": "code",
      "execution_count": null,
      "metadata": {
        "id": "Kt0n1s42CcN2"
      },
      "outputs": [],
      "source": [
        "\n",
        "# Exercise 1: Converting Lists into Dictionaries\n",
        "keys = ['Ten', 'Twenty', 'Thirty']\n",
        "values = [10, 20, 30]\n",
        "\n",
        "# Utilisation de zip() pour associer chaque clé à sa valeur\n",
        "result = dict(zip(keys, values))\n",
        "\n",
        "print(result)"
      ]
    },
    {
      "cell_type": "code",
      "source": [
        "#Exercise 2: Cinemax #2\n",
        "family = {}\n",
        "total_cost = 0\n",
        "\n",
        "# Ask how many family members\n",
        "num_members = int(input(\"How many family members? \"))\n",
        "\n",
        "for i in range(num_members):\n",
        "    name = input(f\"Enter the name of family member #{i+1}: \")\n",
        "    age = int(input(f\"Enter the age of {name}: \"))\n",
        "    family[name] = age\n",
        "\n",
        "print(\"\\nTicket prices:\")\n",
        "for name, age in family.items():\n",
        "    if age < 3:\n",
        "        price = 0\n",
        "    elif 3 <= age <= 12:\n",
        "        price = 10\n",
        "    else:\n",
        "        price = 15\n",
        "    print(f\"{name.capitalize()}'s ticket price is ${price}\")\n",
        "    total_cost += price\n",
        "\n",
        "print(f\"\\nTotal cost for the family is: ${total_cost}\")"
      ],
      "metadata": {
        "id": "-1RLNr6bCuiD"
      },
      "execution_count": null,
      "outputs": []
    },
    {
      "cell_type": "code",
      "source": [
        "#Exercise 3: Zara\n",
        "#  Create the dictionary with the given data\n",
        "brand = {\n",
        "    \"name\": \"Zara\",\n",
        "    \"creation_date\": 1975,\n",
        "    \"creator_name\": \"Amancio Ortega Gaona\",\n",
        "    \"type_of_clothes\": [\"men\", \"women\", \"children\", \"home\"],\n",
        "    \"international_competitors\": [\"Gap\", \"H&M\", \"Benetton\"],\n",
        "    \"number_stores\": 7000,\n",
        "    \"major_color\": {\n",
        "        \"France\": \"blue\",\n",
        "        \"Spain\": \"red\",\n",
        "        \"US\": [\"pink\", \"green\"]\n",
        "    }\n",
        "}\n",
        "\n",
        "#  Change the value of number of stores to 2\n",
        "brand[\"number_stores\"] = 2\n",
        "\n",
        "#  Print Zara’s a sentence describing Zara’s clients using the type_of_clothes key\n",
        "print(\"Zara’s clients are:\", \", \".join(brand[\"type_of_clothes\"]))\n",
        "\n",
        "#  Add country_creation\n",
        "brand[\"country_creation\"] = \"Spain\"\n",
        "\n",
        "#  Add \"Desigual\" to competitors if key exists\n",
        "if \"international_competitors\" in brand:\n",
        "    brand[\"international_competitors\"].append(\"Desigual\")\n",
        "\n",
        "#  Delete creation_date\n",
        "brand.pop(\"creation_date\", None)\n",
        "\n",
        "#  Print last international competitor\n",
        "print(\"Last international competitor:\", brand[\"international_competitors\"][-1])\n",
        "\n",
        "#  Print major colors in the US\n",
        "print(\"Major colors in the US:\", brand[\"major_color\"][\"US\"])\n",
        "\n",
        "#  Print number of keys\n",
        "print(\"Number of keys in the dictionary:\", len(brand))\n",
        "\n",
        "#  10 Print all keys\n",
        "print(\"All keys in the dictionary:\", list(brand.keys()))"
      ],
      "metadata": {
        "id": "3uBc6AHACyxl"
      },
      "execution_count": null,
      "outputs": []
    },
    {
      "cell_type": "code",
      "source": [
        "#Exercise 4 : Some Geography\n",
        "def describe_city( city ,country=\"Unknown\"):\n",
        "    print(f\"{city.capitalize()} is in {country.capitalize()}\")\n",
        "describe_city(city= \"Reykjavik\",country=\"Iceland\")"
      ],
      "metadata": {
        "id": "aTyUzSVSDBsk"
      },
      "execution_count": null,
      "outputs": []
    },
    {
      "cell_type": "code",
      "source": [
        "#Exercise 5 : Random\n",
        "import random #import the random module\n",
        "# fddefinition de la fonction\n",
        "def compare_random_number(user_number):\n",
        "    if 1>user_number<1 or user_number>100:\n",
        "        print(\"Please enter a number between 1 and 100.\")\n",
        "     #Generate a random number\n",
        "    random_number = random.randint(1, 100)\n",
        "    #Compare the numbers\n",
        "    if user_number == random_number:\n",
        "        print(\" Success! You guessed the number!\")\n",
        "    else:\n",
        "        print(f\" Fail! Your number: {user_number}, Random number: {random_number}\")\n",
        "        #appel de la fonction\n",
        "user_input = int(input(\"Enter a number between 1 and 100: \"))\n",
        "compare_random_number(user_input)"
      ],
      "metadata": {
        "id": "wOweNMWaDRr9"
      },
      "execution_count": null,
      "outputs": []
    },
    {
      "cell_type": "code",
      "source": [
        "#Exercise 6 : Let’s create some personalized shirts !\n",
        "#Define the function and print a summary\n",
        "\n",
        "#Define the function and print a summary\n",
        "def make_shirt(size=\"large\", text=\"I love Python\"):\n",
        "    print(f\"The size of the shirt is {size} and the text is '{text}'.\")\n",
        "\n",
        "# Step 3, 4 & 5: Call the function with default and custom values\n",
        "make_shirt()  # large with default text\n",
        "make_shirt(\"medium\")  # medium with default text\n",
        "make_shirt(\"small\", \"Custom message\")  # custom size and message\n",
        "\n",
        "# Step 6 (Bonus): Call using keyword arguments\n",
        "make_shirt(size=\"extra large\", text=\"Hello World!\")\n",
        "make_shirt(text=\"Keep Coding!\", size=\"small\")"
      ],
      "metadata": {
        "id": "Hny1rdRHDb5f"
      },
      "execution_count": null,
      "outputs": []
    },
    {
      "cell_type": "code",
      "source": [
        "#Exercise 7 : Temperature Advice\n",
        "import random  # Module pour générer des nombres aléatoires\n",
        "\n",
        "# Fonction pour générer une température aléatoire en fonction de la saison\n",
        "def get_random_temp(season):\n",
        "    if season == \"winter\":\n",
        "        return round(random.uniform(-10, 16), 1)  # Température plus froide\n",
        "    elif season == \"spring\":\n",
        "        return round(random.uniform(5, 22), 1)  # Température modérée\n",
        "    elif season == \"summer\":\n",
        "        return round(random.uniform(18, 40), 1)  # Température chaude\n",
        "    elif season == \"autumn\":\n",
        "        return round(random.uniform(5, 20), 1)  # Température fraîche\n",
        "    else:\n",
        "        return round(random.uniform(-10, 40), 1)  # Par défaut si saison inconnue\n",
        "\n",
        "# Fonction pour obtenir la saison à partir du numéro du mois\n",
        "def get_season(month):\n",
        "    if month in [12, 1, 2]:\n",
        "        return \"winter\"\n",
        "    elif month in [3, 4, 5]:\n",
        "        return \"spring\"\n",
        "    elif month in [6, 7, 8]:\n",
        "        return \"summer\"\n",
        "    elif month in [9, 10, 11]:\n",
        "        return \"autumn\"\n",
        "    else:\n",
        "        return None  # Mois invalide\n",
        "\n",
        "# Fonction principale du programme\n",
        "def main():\n",
        "    try:\n",
        "        # Demande à l'utilisateur un mois (sous forme de chiffre)\n",
        "        month = int(input(\"Entrez le numéro du mois (1 à 12) : \"))\n",
        "        season = get_season(month)  # Détermination de la saison\n",
        "\n",
        "        if not season:\n",
        "            print(\"Mois invalide.\")  # Gestion d'une entrée incorrecte\n",
        "            return\n",
        "\n",
        "        # Génération d'une température aléatoire pour la saison donnée\n",
        "        temperature = get_random_temp(season)\n",
        "        print(f\"La température actuelle est de {temperature}°C ({season}).\")\n",
        "\n",
        "        # Affichage d'un conseil adapté à la température\n",
        "        if temperature < 0:\n",
        "            print(\"Brrr, il fait glacial ! Pensez à bien vous couvrir.\")\n",
        "        elif temperature < 16:\n",
        "            print(\"Il fait frais, n'oubliez pas votre manteau.\")\n",
        "        elif temperature < 23:\n",
        "            print(\"Temps agréable aujourd’hui.\")\n",
        "        elif temperature < 32:\n",
        "            print(\"Il fait un peu chaud, restez bien hydraté.\")\n",
        "        else:\n",
        "            print(\"Il fait très chaud ! Restez au frais.\")\n",
        "\n",
        "    except ValueError:\n",
        "        print(\"Veuillez entrer un chiffre valide pour le mois.\")  # Gestion des erreurs\n",
        "\n",
        "# Lancement du programme\n",
        "main()"
      ],
      "metadata": {
        "id": "NcCO5Ku1DdJO"
      },
      "execution_count": null,
      "outputs": []
    },
    {
      "cell_type": "code",
      "source": [
        "#Exercise 8: Pizza Toppings\n",
        "\n",
        "# Initialisation\n",
        "toppings = []  # Liste pour stocker les toppings\n",
        "base_price = 10.0  # Prix de base de la pizza\n",
        "topping_price = 2.5  # Prix par topping\n",
        "\n",
        "print(\"Bienvenue chez Python Pizza !\")\n",
        "print(\"Entrez vos toppings un par un. Tapez 'quit' pour terminer votre commande.\\n\")\n",
        "\n",
        "# Boucle pour ajouter les toppings\n",
        "while True:\n",
        "    topping = input(\"Topping (ou 'quit' pour terminer) : \").strip()\n",
        "\n",
        "    if topping.lower() == 'quit':\n",
        "        break  # Fin de la commande\n",
        "    elif topping == \"\":\n",
        "        print(\"Entrée vide ignorée.\")\n",
        "        continue\n",
        "\n",
        "    toppings.append(topping)\n",
        "    print(f\"Ajout de '{topping}' à votre pizza.\")\n",
        "\n",
        "# Calcul du total\n",
        "total_price = base_price + len(toppings) * topping_price\n",
        "\n",
        "# Résumé de la commande\n",
        "print(\"\\nVotre pizza contient les toppings suivants :\")\n",
        "for t in toppings:\n",
        "    print(f\"- {t}\")\n",
        "\n",
        "print(f\"\\nPrix total : {total_price:.2f} €\")\n"
      ],
      "metadata": {
        "id": "kFkBgD81DrSL"
      },
      "execution_count": null,
      "outputs": []
    }
  ]
}